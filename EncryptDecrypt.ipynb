{
 "cells": [
  {
   "cell_type": "code",
   "execution_count": 2,
   "id": "466595da-79b4-41ed-961a-96a7aad44c8d",
   "metadata": {},
   "outputs": [],
   "source": [
    "# pycryptodome\n",
    "from Crypto.Cipher import AES\n",
    "from Crypto.Util.Padding import pad, unpad\n",
    "from Crypto.Random import get_random_bytes\n",
    "import base64\n",
    "import hashlib"
   ]
  },
  {
   "cell_type": "code",
   "execution_count": 3,
   "id": "d0ea43d2-6f4e-45ca-8d6b-b8e9c505a4ea",
   "metadata": {},
   "outputs": [],
   "source": [
    "# Function to encrypt private key\n",
    "def encrypt_private_key(private_key: str, password: str) -> str:\n",
    "    key = hashlib.sha256(password.encode()).digest() # Derive a 32-byte key from the password using SHA-256\n",
    "    cipher = AES.new(key, AES.MODE_CBC)\n",
    "    ct_bytes = cipher.encrypt(pad(private_key.encode(), AES.block_size))\n",
    "    iv = cipher.iv\n",
    "    return base64.b64encode(iv + ct_bytes).decode('utf-8')"
   ]
  },
  {
   "cell_type": "code",
   "execution_count": 4,
   "id": "db01e58f-b040-495f-85d3-698f021ea17b",
   "metadata": {},
   "outputs": [],
   "source": [
    "# Function to decrypt private key\n",
    "def decrypt_private_key(encrypted_data: str, password: str) -> str:\n",
    "    key = hashlib.sha256(password.encode()).digest() # Derive a 32-byte key from the password using SHA-256\n",
    "    encrypted_data = base64.b64decode(encrypted_data)\n",
    "    iv = encrypted_data[:16]\n",
    "    ct = encrypted_data[16:]\n",
    "    cipher = AES.new(key, AES.MODE_CBC, iv=iv)\n",
    "    pt = unpad(cipher.decrypt(ct), AES.block_size)\n",
    "    return pt.decode('utf-8')"
   ]
  },
  {
   "cell_type": "code",
   "execution_count": 5,
   "id": "34d516fe-5ca1-4069-b149-e7fbb314fc92",
   "metadata": {},
   "outputs": [
    {
     "name": "stdout",
     "output_type": "stream",
     "text": [
      "Encrypted Private Key: u0JVIVohMv3IFMv8oPJGVaayg9y7Qyh75XF5p5X+vLeK0VjQJP1+GRysbmfy3m1E\n",
      "Decrypted Private Key: your_bitcoin_private_key_here\n"
     ]
    }
   ],
   "source": [
    "private_key = \"your_bitcoin_private_key_here\"\n",
    "password = \"your_secure_password\"\n",
    "\n",
    "encrypted_key = encrypt_private_key(private_key, password)\n",
    "print(\"Encrypted Private Key:\", encrypted_key)\n",
    "\n",
    "decrypted_key = decrypt_private_key(encrypted_key, password)\n",
    "print(\"Decrypted Private Key:\", decrypted_key)"
   ]
  },
  {
   "cell_type": "code",
   "execution_count": 1,
   "id": "98605941-5a76-4fd7-95f4-f3c20fc0bca5",
   "metadata": {},
   "outputs": [
    {
     "name": "stdout",
     "output_type": "stream",
     "text": [
      "Encrypted Private Key: XTQyrYw8hmchOcKGyQKTZELKXThvGIiTWT5kAE/gfwhaRUx4Tv3wcpqvIDk9BIZd\n",
      "Decrypted Private Key: your_bitcoin_private_key_here\n"
     ]
    }
   ],
   "source": [
    "# pycryptodome\n",
    "from Crypto.Cipher import AES\n",
    "from Crypto.Util.Padding import pad, unpad\n",
    "from Crypto.Random import get_random_bytes\n",
    "import base64\n",
    "import hashlib\n",
    "# Function to encrypt private key\n",
    "def encrypt_private_key(private_key: str, password: str) -> str:\n",
    "    key = hashlib.sha256(password.encode()).digest() # Derive a 32-byte key from the password using SHA-256\n",
    "    cipher = AES.new(key, AES.MODE_CBC)\n",
    "    ct_bytes = cipher.encrypt(pad(private_key.encode(), AES.block_size))\n",
    "    iv = cipher.iv\n",
    "    return base64.b64encode(iv + ct_bytes).decode('utf-8')\n",
    "# Function to decrypt private key\n",
    "def decrypt_private_key(encrypted_data: str, password: str) -> str:\n",
    "    key = hashlib.sha256(password.encode()).digest() # Derive a 32-byte key from the password using SHA-256\n",
    "    encrypted_data = base64.b64decode(encrypted_data)\n",
    "    iv = encrypted_data[:16]\n",
    "    ct = encrypted_data[16:]\n",
    "    cipher = AES.new(key, AES.MODE_CBC, iv=iv)\n",
    "    pt = unpad(cipher.decrypt(ct), AES.block_size)\n",
    "    return pt.decode('utf-8')\n",
    "private_key = \"your_bitcoin_private_key_here\"\n",
    "password = \"your_secure_password\"\n",
    "\n",
    "encrypted_key = encrypt_private_key(private_key, password)\n",
    "print(\"Encrypted Private Key:\", encrypted_key)\n",
    "\n",
    "decrypted_key = decrypt_private_key(encrypted_key, password)\n",
    "print(\"Decrypted Private Key:\", decrypted_key)"
   ]
  },
  {
   "cell_type": "code",
   "execution_count": null,
   "id": "4b638108-34e9-4859-9122-290d6bac8c42",
   "metadata": {},
   "outputs": [],
   "source": []
  }
 ],
 "metadata": {
  "kernelspec": {
   "display_name": "Python 3 (ipykernel)",
   "language": "python",
   "name": "python3"
  },
  "language_info": {
   "codemirror_mode": {
    "name": "ipython",
    "version": 3
   },
   "file_extension": ".py",
   "mimetype": "text/x-python",
   "name": "python",
   "nbconvert_exporter": "python",
   "pygments_lexer": "ipython3",
   "version": "3.12.2"
  }
 },
 "nbformat": 4,
 "nbformat_minor": 5
}
